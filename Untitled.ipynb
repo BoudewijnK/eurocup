{
 "cells": [
  {
   "cell_type": "code",
   "execution_count": null,
   "id": "b56fa3d1",
   "metadata": {},
   "outputs": [],
   "source": [
    "import sqlite3\n",
    "import pandas as pd"
   ]
  },
  {
   "cell_type": "code",
   "execution_count": null,
   "id": "347ab647",
   "metadata": {},
   "outputs": [],
   "source": [
    "DB_NAME = \"euro2020.db\"\n",
    "\n",
    "\n",
    "con = sqlite3.connect(DB_NAME)\n",
    "cur = con.cursor()\n",
    "query = \"select * from matches \"\n",
    "cur.execute(query)\n",
    "columns = [\n",
    "    'id',\n",
    "    'market_id',\n",
    "    'name',\n",
    "    'time',\n",
    "    'real_score',\n",
    "    'goals_a_true',\n",
    "    'goals_b_true',\n",
    "    'goals_a_pred',\n",
    "    'goals_b_pred',\n",
    "    'point_true',\n",
    "    'points_pred',\n",
    "]\n",
    "df = pd.DataFrame(cur.fetchall(), columns=columns)\n",
    "# print(df)\n",
    "# for r in cur.fetchall():\n",
    "#     print(r)\n",
    "# print(dir(cur))\n",
    "con.commit()\n",
    "con.close()\n",
    "\n",
    "print(df.head())"
   ]
  },
  {
   "cell_type": "code",
   "execution_count": null,
   "id": "195c49b5",
   "metadata": {},
   "outputs": [],
   "source": [
    "selection_id_scores = {\n",
    "    1: (0, 0),\n",
    "    2: (1, 0),\n",
    "    3: (1, 1),\n",
    "    4: (0, 1),\n",
    "    5: (2, 0),\n",
    "    6: (2, 1),\n",
    "    7: (2, 2),\n",
    "    8: (1, 2),\n",
    "    9: (0, 2),\n",
    "    10: (3, 0),\n",
    "    11: (3, 1),\n",
    "    12: (3, 2),\n",
    "    13: (3, 3),\n",
    "    14: (2, 3),\n",
    "    15: (1, 3),\n",
    "    16: (0, 3),\n",
    "}\n",
    "\n",
    "scores = list(selection_id_scores.values())"
   ]
  },
  {
   "cell_type": "code",
   "execution_count": null,
   "id": "aaaf78f9",
   "metadata": {},
   "outputs": [],
   "source": [
    "def calculate_points(true, prediction):\n",
    "    \"\"\"https://www.ekpooltjes.nl/rules/\"\"\"\n",
    "\n",
    "    def winner_correct():\n",
    "        if true[0] > true[1] and prediction[0] > prediction[1]:\n",
    "            return True\n",
    "        elif true[1] > true[0] and prediction[1] > prediction[0]:\n",
    "            return True\n",
    "        return False\n",
    "\n",
    "    def score_partially_correct():\n",
    "        if true[0] == prediction[0]:\n",
    "            return True\n",
    "        elif true[1] == prediction[1]:\n",
    "            return True\n",
    "        return False\n",
    "\n",
    "    if true == prediction:  # COMPLETELY CORRECT\n",
    "        return 200\n",
    "    elif true[0] == true[1] and prediction[0] == prediction[1]:  # DRAW CORRECT\n",
    "        return 100\n",
    "    elif winner_correct() and score_partially_correct():\n",
    "        return 95\n",
    "    elif winner_correct():\n",
    "        return 75\n",
    "    elif score_partially_correct():\n",
    "        return 20\n",
    "    return 0"
   ]
  },
  {
   "cell_type": "code",
   "execution_count": null,
   "id": "e5a8212e",
   "metadata": {},
   "outputs": [],
   "source": [
    "def wrapper(a):\n",
    "    return calculate_points((a[0], a[1]), (a[2], a[3]))"
   ]
  },
  {
   "cell_type": "code",
   "execution_count": null,
   "id": "b6fa2f63",
   "metadata": {},
   "outputs": [],
   "source": [
    "cols = [\n",
    "    'goals_a_true',\n",
    "    'goals_b_true',\n",
    "    'goals_a_pred',\n",
    "    'goals_b_pred',\n",
    " ]\n",
    "\n",
    "df['check'] = df[cols].apply(wrapper, axis=1)\n",
    "df[\"check\"] == df[\"point_true\"]\n",
    "# df.head()"
   ]
  }
 ],
 "metadata": {
  "kernelspec": {
   "display_name": "Python 3",
   "language": "python",
   "name": "python3"
  },
  "language_info": {
   "codemirror_mode": {
    "name": "ipython",
    "version": 3
   },
   "file_extension": ".py",
   "mimetype": "text/x-python",
   "name": "python",
   "nbconvert_exporter": "python",
   "pygments_lexer": "ipython3",
   "version": "3.9.5"
  }
 },
 "nbformat": 4,
 "nbformat_minor": 5
}
